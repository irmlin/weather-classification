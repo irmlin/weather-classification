{
 "cells": [
  {
   "cell_type": "markdown",
   "metadata": {},
   "source": [
    "Run this notebook to download the two datasets, prepare and structurize directories for tensorflow's input pipeline. To download the datasets, a kaggle acount is required. You will be prompted to enter your kaggle account credentials, instructions on how to get them here: https://github.com/JovianML/opendatasets/blob/master/README.md#kaggle-credentials<br/>\n",
    "If you don't have a kaggle account, you may also download the datasets manually from:\n",
    "- https://www.kaggle.com/datasets/jehanbhathena/weather-dataset\n",
    "- https://www.kaggle.com/datasets/pratik2901/multiclass-weather-dataset"
   ]
  },
  {
   "cell_type": "code",
   "execution_count": 19,
   "metadata": {},
   "outputs": [
    {
     "name": "stdout",
     "output_type": "stream",
     "text": [
      "Please provide your Kaggle credentials to download this dataset. Learn more: http://bit.ly/kaggle-creds\n",
      "Your Kaggle username:Your Kaggle Key:Downloading weather-dataset.zip to .\\weather-dataset\n"
     ]
    },
    {
     "name": "stderr",
     "output_type": "stream",
     "text": [
      "100%|██████████| 587M/587M [00:25<00:00, 23.8MB/s] \n"
     ]
    },
    {
     "name": "stdout",
     "output_type": "stream",
     "text": [
      "\n"
     ]
    }
   ],
   "source": [
    "import opendatasets as od\n",
    "\n",
    "od.download(\"https://www.kaggle.com/datasets/jehanbhathena/weather-dataset\")"
   ]
  },
  {
   "cell_type": "code",
   "execution_count": 20,
   "metadata": {},
   "outputs": [
    {
     "name": "stdout",
     "output_type": "stream",
     "text": [
      "Please provide your Kaggle credentials to download this dataset. Learn more: http://bit.ly/kaggle-creds\n",
      "Your Kaggle username:Your Kaggle Key:Downloading multiclass-weather-dataset.zip to .\\multiclass-weather-dataset\n"
     ]
    },
    {
     "name": "stderr",
     "output_type": "stream",
     "text": [
      "100%|██████████| 91.4M/91.4M [00:04<00:00, 21.8MB/s]\n"
     ]
    },
    {
     "name": "stdout",
     "output_type": "stream",
     "text": [
      "\n"
     ]
    }
   ],
   "source": [
    "od.download(\"https://www.kaggle.com/datasets/pratik2901/multiclass-weather-dataset\")"
   ]
  },
  {
   "cell_type": "markdown",
   "metadata": {},
   "source": [
    "The two datasets are in separate directories, the following code puts them in a single directory with this structure:<br/>\n",
    "---./<br/>\n",
    "------weather-dataset<br/>\n",
    "---------class1<br/>\n",
    "---------class2<br/>\n",
    "---------class3<br/>\n",
    "---------class4<br/>\n",
    "---------...<br/>"
   ]
  },
  {
   "cell_type": "code",
   "execution_count": 21,
   "metadata": {},
   "outputs": [],
   "source": [
    "import os\n",
    "import shutil\n",
    "\n",
    "data_dir_path = os.path.join(os.getcwd(), 'weather-dataset')\n",
    "first_dataset_dir_path = os.path.join(data_dir_path, 'dataset')\n",
    "first_dataset_dirs = os.listdir(first_dataset_dir_path)\n",
    "\n",
    "for dir_name in first_dataset_dirs:\n",
    "  shutil.move(os.path.join(first_dataset_dir_path, dir_name), data_dir_path)\n",
    "os.rmdir(first_dataset_dir_path)"
   ]
  },
  {
   "cell_type": "code",
   "execution_count": 22,
   "metadata": {},
   "outputs": [],
   "source": [
    "second_dataset_dir_path = os.path.join(os.getcwd(), 'multiclass-weather-dataset', 'Multi-class Weather Dataset')\n",
    "\n",
    "second_rain_dir = os.path.join(second_dataset_dir_path, 'Rain')\n",
    "second_rain_dir_renamed = os.path.join(second_dataset_dir_path, 'rain1')\n",
    "os.rename(second_rain_dir, second_rain_dir_renamed)\n",
    "\n",
    "second_dataset_dirs = os.listdir(second_dataset_dir_path)\n",
    "\n",
    "\n",
    "for dir_name in second_dataset_dirs:\n",
    "  shutil.move(os.path.join(second_dataset_dir_path, dir_name), data_dir_path)\n",
    "shutil.rmtree(os.path.join(os.getcwd(), 'multiclass-weather-dataset'))"
   ]
  },
  {
   "cell_type": "code",
   "execution_count": 24,
   "metadata": {},
   "outputs": [],
   "source": [
    "first_rain_dir = os.path.join(data_dir_path, 'rain')\n",
    "second_rain_dir = os.path.join(data_dir_path, 'rain1')\n",
    "second_rain_dir_images = os.listdir(second_rain_dir)\n",
    "\n",
    "for image_file in second_rain_dir_images:\n",
    "  shutil.move(os.path.join(second_rain_dir, image_file), first_rain_dir)\n",
    "os.rmdir(second_rain_dir)"
   ]
  },
  {
   "cell_type": "code",
   "execution_count": 32,
   "metadata": {},
   "outputs": [],
   "source": [
    "for class_name in os.listdir(data_dir_path):\n",
    "\n",
    "  current_dir_path = os.path.join(data_dir_path, class_name)  \n",
    "\n",
    "  if class_name[0].isupper():\n",
    "    new_dir_path = os.path.join(data_dir_path, class_name.lower())\n",
    "    os.rename(current_dir_path, new_dir_path)\n",
    "    current_dir_path = new_dir_path\n",
    "\n",
    "  for index, image_file_name in enumerate(os.listdir(current_dir_path)):\n",
    "    extension = image_file_name.split('.')[-1]\n",
    "    new_image_file_name = ''.join([str(index), '.', extension])\n",
    "    try:\n",
    "      os.rename(\n",
    "        os.path.join(current_dir_path, image_file_name),\n",
    "        os.path.join(current_dir_path, new_image_file_name)\n",
    "      )\n",
    "    except FileExistsError:\n",
    "      continue\n"
   ]
  }
 ],
 "metadata": {
  "kernelspec": {
   "display_name": "Python 3.8.5 64-bit",
   "language": "python",
   "name": "python3"
  },
  "language_info": {
   "codemirror_mode": {
    "name": "ipython",
    "version": 3
   },
   "file_extension": ".py",
   "mimetype": "text/x-python",
   "name": "python",
   "nbconvert_exporter": "python",
   "pygments_lexer": "ipython3",
   "version": "3.8.5"
  },
  "orig_nbformat": 4,
  "vscode": {
   "interpreter": {
    "hash": "3d08b197395ff9c13d611a82f8666597c7b4f03b34ef71765c8d241627dec079"
   }
  }
 },
 "nbformat": 4,
 "nbformat_minor": 2
}
