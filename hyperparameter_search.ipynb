{
  "cells": [
    {
      "cell_type": "code",
      "source": [
        "import numpy as np\n",
        "import tensorflow as tf\n",
        "import os\n",
        "import config\n",
        "\n",
        "tf.compat.v1.logging.set_verbosity(tf.compat.v1.logging.ERROR)\n",
        "\n",
        "print(f\"Weather classes for classification:\\n{config.CLASS_NAMES}\")"
      ],
      "outputs": [
        {
          "output_type": "execute_result",
          "execution_count": 1,
          "data": {
            "text/plain": "['.amlignore',\n '.amlignore.amltmp',\n 'cloudy',\n 'dew',\n 'fogsmog',\n 'frost',\n 'glaze',\n 'hail',\n 'lightning',\n 'rain',\n 'rainbow',\n 'rime',\n 'sandstorm',\n 'shine',\n 'snow',\n 'sunrise']"
          },
          "metadata": {}
        }
      ],
      "execution_count": 1,
      "metadata": {
        "gather": {
          "logged": 1668517355813
        }
      }
    },
    {
      "cell_type": "code",
      "source": [
        "train_data = tf.keras.utils.image_dataset_from_directory(\n",
        "  config.DATA_DIR,\n",
        "  validation_split=0.2,\n",
        "  subset=\"training\",\n",
        "  seed=123,\n",
        "  image_size=(config.IMG_HEIGHT, config.IMG_WIDTH),\n",
        "  batch_size=config.BATCH_SIZE)\n",
        "\n",
        "val_data = tf.keras.utils.image_dataset_from_directory(\n",
        "  config.DATA_DIR,\n",
        "  validation_split=0.2,\n",
        "  subset=\"validation\",\n",
        "  seed=123,\n",
        "  image_size=(config.IMG_HEIGHT, config.IMG_WIDTH),\n",
        "  batch_size=config.BATCH_SIZE)\n",
        "\n",
        "test_size = int(len(val_data) / 2)\n",
        "test_data = val_data.take(test_size)\n",
        "val_data = val_data.skip(test_size)"
      ],
      "outputs": [
        {
          "output_type": "stream",
          "name": "stdout",
          "text": "Found 7984 files belonging to 14 classes.\nUsing 6388 files for training.\nFound 7984 files belonging to 14 classes.\nUsing 1596 files for validation.\n"
        }
      ],
      "execution_count": 2,
      "metadata": {
        "gather": {
          "logged": 1668517401058
        }
      }
    },
    {
      "cell_type": "code",
      "source": [
        "AUTOTUNE = tf.data.AUTOTUNE\n",
        "\n",
        "train_data = train_data.cache().prefetch(buffer_size=AUTOTUNE)\n",
        "val_data = val_data.cache().prefetch(buffer_size=AUTOTUNE)\n",
        "test_data = test_data.cache().prefetch(buffer_size=AUTOTUNE)"
      ],
      "outputs": [],
      "execution_count": 3,
      "metadata": {
        "gather": {
          "logged": 1668517415024
        }
      }
    },
    {
      "cell_type": "code",
      "source": [
        "from tensorflow.keras import layers, Sequential, optimizers\n",
        "\n",
        "data_augmentation = tf.keras.Sequential([\n",
        "  layers.RandomFlip(\"horizontal\"),\n",
        "  layers.RandomRotation(0.1),\n",
        "  layers.RandomZoom(0.1)\n",
        "])"
      ],
      "outputs": [],
      "execution_count": 4,
      "metadata": {
        "gather": {
          "logged": 1668517417722
        }
      }
    },
    {
      "cell_type": "code",
      "source": [
        "def model_builder(hp):\n",
        "  \n",
        "  model = Sequential([\n",
        "    layers.Rescaling(1./255, input_shape=(config.IMG_HEIGHT, config.IMG_WIDTH, 3)),\n",
        "    data_augmentation,\n",
        "    layers.Conv2D(hp.Int(\"conv1\", min_value=32, max_value=96, step=32), 3, padding='same', activation='relu'),\n",
        "    layers.MaxPooling2D(),\n",
        "    layers.Conv2D(hp.Int(\"conv2\", min_value=64, max_value=128, step=32), 3, padding='same', activation='relu'),\n",
        "    layers.MaxPooling2D(),\n",
        "    layers.Conv2D(hp.Int(\"conv3\", min_value=64, max_value=128, step=32), 3, padding='same', activation='relu'),\n",
        "    layers.MaxPooling2D(),\n",
        "    layers.Dropout(0.2),\n",
        "    layers.Flatten(),\n",
        "    layers.Dense(hp.Int(\"dense_units\", min_value=128, max_value=768, step=128), activation='relu'),\n",
        "    layers.Dense(config.NUM_CLASSES)\n",
        "  ])\n",
        "\n",
        "  lr = hp.Choice(\"learning_rate\", values=[1e-1, 1e-2, 1e-3, 1e-4])\n",
        "  opt = optimizers.Adam(learning_rate=lr)\n",
        "\n",
        "  model.compile(optimizer=opt,\n",
        "                loss=tf.keras.losses.SparseCategoricalCrossentropy(from_logits=True),\n",
        "                metrics=['accuracy'])\n",
        "\n",
        "  return model"
      ],
      "outputs": [],
      "execution_count": 5,
      "metadata": {
        "gather": {
          "logged": 1668517419746
        }
      }
    },
    {
      "cell_type": "code",
      "source": [
        "from tensorflow.keras.callbacks import EarlyStopping\n",
        "\n",
        "early_stop = EarlyStopping(\n",
        "\tmonitor=\"val_loss\",\n",
        "\tpatience=config.EARLY_STOPPING_PATIENCE,\n",
        "\trestore_best_weights=True)"
      ],
      "outputs": [],
      "execution_count": 6,
      "metadata": {
        "gather": {
          "logged": 1668517422341
        }
      }
    },
    {
      "cell_type": "code",
      "source": [
        "import sys\r\n",
        "!{sys.executable} -m pip install keras_tuner"
      ],
      "outputs": [
        {
          "output_type": "stream",
          "name": "stdout",
          "text": "Collecting keras_tuner\n  Downloading keras_tuner-1.1.3-py3-none-any.whl (135 kB)\n\u001b[2K     \u001b[90m━━━━━━━━━━━━━━━━━━━━━━━━━━━━━━━━━━━━━━━\u001b[0m \u001b[32m135.7/135.7 kB\u001b[0m \u001b[31m2.1 MB/s\u001b[0m eta \u001b[36m0:00:00\u001b[0m00:01\u001b[0m\n\u001b[?25hRequirement already satisfied: numpy in /anaconda/envs/azureml_py38_PT_TF/lib/python3.8/site-packages (from keras_tuner) (1.23.2)\nCollecting kt-legacy\n  Downloading kt_legacy-1.0.4-py3-none-any.whl (9.6 kB)\nRequirement already satisfied: ipython in /anaconda/envs/azureml_py38_PT_TF/lib/python3.8/site-packages (from keras_tuner) (8.4.0)\nRequirement already satisfied: packaging in /anaconda/envs/azureml_py38_PT_TF/lib/python3.8/site-packages (from keras_tuner) (21.3)\nRequirement already satisfied: requests in /anaconda/envs/azureml_py38_PT_TF/lib/python3.8/site-packages (from keras_tuner) (2.28.1)\nRequirement already satisfied: tensorboard in /anaconda/envs/azureml_py38_PT_TF/lib/python3.8/site-packages (from keras_tuner) (2.9.1)\nRequirement already satisfied: decorator in /anaconda/envs/azureml_py38_PT_TF/lib/python3.8/site-packages (from ipython->keras_tuner) (5.1.1)\nRequirement already satisfied: pexpect>4.3 in /anaconda/envs/azureml_py38_PT_TF/lib/python3.8/site-packages (from ipython->keras_tuner) (4.8.0)\nRequirement already satisfied: setuptools>=18.5 in /anaconda/envs/azureml_py38_PT_TF/lib/python3.8/site-packages (from ipython->keras_tuner) (61.2.0)\nRequirement already satisfied: stack-data in /anaconda/envs/azureml_py38_PT_TF/lib/python3.8/site-packages (from ipython->keras_tuner) (0.4.0)\nRequirement already satisfied: traitlets>=5 in /anaconda/envs/azureml_py38_PT_TF/lib/python3.8/site-packages (from ipython->keras_tuner) (5.3.0)\nRequirement already satisfied: pickleshare in /anaconda/envs/azureml_py38_PT_TF/lib/python3.8/site-packages (from ipython->keras_tuner) (0.7.5)\nRequirement already satisfied: jedi>=0.16 in /anaconda/envs/azureml_py38_PT_TF/lib/python3.8/site-packages (from ipython->keras_tuner) (0.18.1)\nRequirement already satisfied: matplotlib-inline in /anaconda/envs/azureml_py38_PT_TF/lib/python3.8/site-packages (from ipython->keras_tuner) (0.1.6)\nRequirement already satisfied: backcall in /anaconda/envs/azureml_py38_PT_TF/lib/python3.8/site-packages (from ipython->keras_tuner) (0.2.0)\nRequirement already satisfied: prompt-toolkit!=3.0.0,!=3.0.1,<3.1.0,>=2.0.0 in /anaconda/envs/azureml_py38_PT_TF/lib/python3.8/site-packages (from ipython->keras_tuner) (3.0.30)\nRequirement already satisfied: pygments>=2.4.0 in /anaconda/envs/azureml_py38_PT_TF/lib/python3.8/site-packages (from ipython->keras_tuner) (2.13.0)\nRequirement already satisfied: pyparsing!=3.0.5,>=2.0.2 in /anaconda/envs/azureml_py38_PT_TF/lib/python3.8/site-packages (from packaging->keras_tuner) (3.0.9)\nRequirement already satisfied: urllib3<1.27,>=1.21.1 in /anaconda/envs/azureml_py38_PT_TF/lib/python3.8/site-packages (from requests->keras_tuner) (1.26.11)\nRequirement already satisfied: charset-normalizer<3,>=2 in /anaconda/envs/azureml_py38_PT_TF/lib/python3.8/site-packages (from requests->keras_tuner) (2.1.0)\nRequirement already satisfied: certifi>=2017.4.17 in /anaconda/envs/azureml_py38_PT_TF/lib/python3.8/site-packages (from requests->keras_tuner) (2022.6.15)\nRequirement already satisfied: idna<4,>=2.5 in /anaconda/envs/azureml_py38_PT_TF/lib/python3.8/site-packages (from requests->keras_tuner) (3.3)\nRequirement already satisfied: markdown>=2.6.8 in /anaconda/envs/azureml_py38_PT_TF/lib/python3.8/site-packages (from tensorboard->keras_tuner) (3.4.1)\nRequirement already satisfied: grpcio>=1.24.3 in /anaconda/envs/azureml_py38_PT_TF/lib/python3.8/site-packages (from tensorboard->keras_tuner) (1.47.0)\nRequirement already satisfied: wheel>=0.26 in /anaconda/envs/azureml_py38_PT_TF/lib/python3.8/site-packages (from tensorboard->keras_tuner) (0.37.1)\nRequirement already satisfied: google-auth<3,>=1.6.3 in /anaconda/envs/azureml_py38_PT_TF/lib/python3.8/site-packages (from tensorboard->keras_tuner) (2.10.0)\nRequirement already satisfied: google-auth-oauthlib<0.5,>=0.4.1 in /anaconda/envs/azureml_py38_PT_TF/lib/python3.8/site-packages (from tensorboard->keras_tuner) (0.4.6)\nRequirement already satisfied: tensorboard-data-server<0.7.0,>=0.6.0 in /anaconda/envs/azureml_py38_PT_TF/lib/python3.8/site-packages (from tensorboard->keras_tuner) (0.6.1)\nRequirement already satisfied: tensorboard-plugin-wit>=1.6.0 in /anaconda/envs/azureml_py38_PT_TF/lib/python3.8/site-packages (from tensorboard->keras_tuner) (1.8.1)\nRequirement already satisfied: absl-py>=0.4 in /anaconda/envs/azureml_py38_PT_TF/lib/python3.8/site-packages (from tensorboard->keras_tuner) (1.2.0)\nRequirement already satisfied: werkzeug>=1.0.1 in /anaconda/envs/azureml_py38_PT_TF/lib/python3.8/site-packages (from tensorboard->keras_tuner) (2.2.2)\nRequirement already satisfied: protobuf<3.20,>=3.9.2 in /anaconda/envs/azureml_py38_PT_TF/lib/python3.8/site-packages (from tensorboard->keras_tuner) (3.19.4)\nRequirement already satisfied: pyasn1-modules>=0.2.1 in /anaconda/envs/azureml_py38_PT_TF/lib/python3.8/site-packages (from google-auth<3,>=1.6.3->tensorboard->keras_tuner) (0.2.8)\nRequirement already satisfied: rsa<5,>=3.1.4 in /anaconda/envs/azureml_py38_PT_TF/lib/python3.8/site-packages (from google-auth<3,>=1.6.3->tensorboard->keras_tuner) (4.9)\nRequirement already satisfied: cachetools<6.0,>=2.0.0 in /anaconda/envs/azureml_py38_PT_TF/lib/python3.8/site-packages (from google-auth<3,>=1.6.3->tensorboard->keras_tuner) (5.2.0)\nRequirement already satisfied: six>=1.9.0 in /anaconda/envs/azureml_py38_PT_TF/lib/python3.8/site-packages (from google-auth<3,>=1.6.3->tensorboard->keras_tuner) (1.16.0)\nRequirement already satisfied: requests-oauthlib>=0.7.0 in /anaconda/envs/azureml_py38_PT_TF/lib/python3.8/site-packages (from google-auth-oauthlib<0.5,>=0.4.1->tensorboard->keras_tuner) (1.3.1)\nRequirement already satisfied: parso<0.9.0,>=0.8.0 in /anaconda/envs/azureml_py38_PT_TF/lib/python3.8/site-packages (from jedi>=0.16->ipython->keras_tuner) (0.8.3)\nRequirement already satisfied: importlib-metadata>=4.4 in /anaconda/envs/azureml_py38_PT_TF/lib/python3.8/site-packages (from markdown>=2.6.8->tensorboard->keras_tuner) (4.12.0)\nRequirement already satisfied: ptyprocess>=0.5 in /anaconda/envs/azureml_py38_PT_TF/lib/python3.8/site-packages (from pexpect>4.3->ipython->keras_tuner) (0.7.0)\nRequirement already satisfied: wcwidth in /anaconda/envs/azureml_py38_PT_TF/lib/python3.8/site-packages (from prompt-toolkit!=3.0.0,!=3.0.1,<3.1.0,>=2.0.0->ipython->keras_tuner) (0.2.5)\nRequirement already satisfied: MarkupSafe>=2.1.1 in /anaconda/envs/azureml_py38_PT_TF/lib/python3.8/site-packages (from werkzeug>=1.0.1->tensorboard->keras_tuner) (2.1.1)\nRequirement already satisfied: asttokens in /anaconda/envs/azureml_py38_PT_TF/lib/python3.8/site-packages (from stack-data->ipython->keras_tuner) (2.0.8)\nRequirement already satisfied: executing in /anaconda/envs/azureml_py38_PT_TF/lib/python3.8/site-packages (from stack-data->ipython->keras_tuner) (0.10.0)\nRequirement already satisfied: pure-eval in /anaconda/envs/azureml_py38_PT_TF/lib/python3.8/site-packages (from stack-data->ipython->keras_tuner) (0.2.2)\nRequirement already satisfied: zipp>=0.5 in /anaconda/envs/azureml_py38_PT_TF/lib/python3.8/site-packages (from importlib-metadata>=4.4->markdown>=2.6.8->tensorboard->keras_tuner) (3.8.1)\nRequirement already satisfied: pyasn1<0.5.0,>=0.4.6 in /anaconda/envs/azureml_py38_PT_TF/lib/python3.8/site-packages (from pyasn1-modules>=0.2.1->google-auth<3,>=1.6.3->tensorboard->keras_tuner) (0.4.8)\nRequirement already satisfied: oauthlib>=3.0.0 in /anaconda/envs/azureml_py38_PT_TF/lib/python3.8/site-packages (from requests-oauthlib>=0.7.0->google-auth-oauthlib<0.5,>=0.4.1->tensorboard->keras_tuner) (3.2.0)\nInstalling collected packages: kt-legacy, keras_tuner\nSuccessfully installed keras_tuner-1.1.3 kt-legacy-1.0.4\n"
        }
      ],
      "execution_count": 7,
      "metadata": {
        "jupyter": {
          "source_hidden": false,
          "outputs_hidden": false
        },
        "nteract": {
          "transient": {
            "deleting": false
          }
        },
        "gather": {
          "logged": 1668517431921
        }
      }
    },
    {
      "cell_type": "code",
      "source": [
        "import keras_tuner as kt\n",
        "\n",
        "epochs = 15\n",
        "\n",
        "tuner = kt.Hyperband(\n",
        "  model_builder,\n",
        "  objective=\"val_accuracy\",\n",
        "  max_epochs=epochs,\n",
        "  factor=3,\n",
        "  seed=42,\n",
        "  directory=\"./tuner-logs\",\n",
        "  project_name=\"hyperband\"\n",
        ")"
      ],
      "outputs": [],
      "execution_count": 8,
      "metadata": {
        "gather": {
          "logged": 1668517449695
        }
      }
    },
    {
      "cell_type": "code",
      "source": [
        "tuner.search(\n",
        "\tx=train_data,\n",
        "\tvalidation_data=val_data,\n",
        "\tbatch_size=config.BATCH_SIZE,\n",
        "\tcallbacks=[early_stop],\n",
        "\tepochs=epochs\n",
        ")\n",
        "\n",
        "bestHP = tuner.get_best_hyperparameters(num_trials=1)[0]\n",
        "print(f\"Optimal number of filters in conv_1 layer: {bestHP.get('conv1')}\")\n",
        "print(f\"Optimal number of filters in conv_2 layer: {bestHP.get('conv2')}\")\n",
        "print(f\"Optimal number of filters in conv_2 layer: {bestHP.get('conv3')}\")\n",
        "print(f\"Optimal number of units in dense layer: {bestHP.get('dense_units')}\")\n",
        "print(f\"Optimal learning rate: {bestHP.get('learning_rate'):.4f}\")"
      ],
      "outputs": [
        {
          "output_type": "stream",
          "name": "stdout",
          "text": "Optimal number of filters in conv_1 layer: 64\nOptimal number of filters in conv_2 layer: 96\nOptimal number of filters in conv_2 layer: 64\nOptimal number of units in dense layer: 640\nOptimal learning rate: 0.0001\n"
        }
      ],
      "execution_count": 14,
      "metadata": {
        "gather": {
          "logged": 1668522608035
        }
      }
    },
    {
      "cell_type": "code",
      "source": [
        "hypermodel = tuner.hypermodel.build(bestHP)\n",
        "hypermodel.fit(train_data, validation_data=val_data, batch_size=config.BATCH_SIZE, epochs=config.EPOCHS, callbacks=[early_stop])"
      ],
      "outputs": [
        {
          "output_type": "stream",
          "name": "stdout",
          "text": "Epoch 1/15\n200/200 [==============================] - 28s 136ms/step - loss: 1.6375 - accuracy: 0.4635 - val_loss: 1.4646 - val_accuracy: 0.4874\b\b\b\b\b\b\b\b\b\b\b\b\b\b\b\b\b\b\b\b\b\b\b\b\b\b\b\b\b\b\b\b\b\b\b\b\b\b\b\nEpoch 2/15\n200/200 [==============================] - 27s 136ms/step - loss: 1.2201 - accuracy: 0.5975 - val_loss: 1.2852 - val_accuracy: 0.5616\b\b\b\b\b\b\b\b\b\b\b\b\b\b\b\b\b\b\b\b\b\b\b\b\b\b\b\b\b\b\b\b\b\b\b\b\b\nEpoch 3/15\n200/200 [==============================] - 27s 137ms/step - loss: 1.0950 - accuracy: 0.6334 - val_loss: 1.2364 - val_accuracy: 0.5678\b\b\b\b\b\b\b\b\b\b\b\b\b\b\b\b\b\b\b\b\b\b\b\b\b\b\b\b\b\b\b\b\b\b\b\b\b\nEpoch 4/15\n200/200 [==============================] - 28s 138ms/step - loss: 1.0203 - accuracy: 0.6583 - val_loss: 1.1871 - val_accuracy: 0.5992\b\b\b\b\b\b\b\b\b\b\b\b\b\b\b\b\b\b\b\b\b\b\b\b\b\b\b\b\b\b\b\b\b\b\b\b\b\nEpoch 5/15\n200/200 [==============================] - 28s 138ms/step - loss: 0.9698 - accuracy: 0.6758 - val_loss: 1.1492 - val_accuracy: 0.6131\b\b\b\b\b\b\b\b\b\b\b\b\b\b\b\b\b\b\b\b\b\b\b\b\b\b\b\b\b\b\b\b\b\b\b\b\b\nEpoch 6/15\n200/200 [==============================] - 28s 138ms/step - loss: 0.9281 - accuracy: 0.6897 - val_loss: 1.1366 - val_accuracy: 0.6231\b\b\b\b\b\b\b\b\b\b\b\b\b\b\b\b\b\b\b\b\b\b\b\b\b\b\b\b\b\b\b\b\b\b\b\b\b\nEpoch 7/15\n200/200 [==============================] - 28s 139ms/step - loss: 0.8960 - accuracy: 0.7001 - val_loss: 1.1173 - val_accuracy: 0.6244\b\b\b\b\b\b\b\b\b\b\b\b\b\b\b\b\b\b\b\b\b\b\b\b\b\b\b\b\b\b\b\b\b\b\b\b\b\nEpoch 8/15\n200/200 [==============================] - 28s 138ms/step - loss: 0.8562 - accuracy: 0.7132 - val_loss: 1.1070 - val_accuracy: 0.6256\b\b\b\b\b\b\b\b\b\b\b\b\b\b\b\b\b\b\b\b\b\b\b\b\b\b\b\b\b\b\b\b\b\b\b\b\b\nEpoch 9/15\n200/200 [==============================] - 28s 139ms/step - loss: 0.8209 - accuracy: 0.7199 - val_loss: 1.0671 - val_accuracy: 0.6533\b\b\b\b\b\b\b\b\b\b\b\b\b\b\b\b\b\b\b\b\b\b\b\b\b\b\b\b\b\b\b\b\b\b\b\b\b\nEpoch 10/15\n200/200 [==============================] - 28s 138ms/step - loss: 0.7857 - accuracy: 0.7373 - val_loss: 1.1069 - val_accuracy: 0.6332\b\b\b\b\b\b\b\b\b\b\b\b\b\b\b\b\b\b\b\b\b\b\b\b\b\b\b\b\b\b\b\b\b\b\b\b\b\nEpoch 11/15\n200/200 [==============================] - 28s 138ms/step - loss: 0.7666 - accuracy: 0.7420 - val_loss: 1.0638 - val_accuracy: 0.6482\b\b\b\b\b\b\b\b\b\b\b\b\b\b\b\b\b\b\b\b\b\b\b\b\b\b\b\b\b\b\b\b\b\b\b\b\b\nEpoch 12/15\n200/200 [==============================] - 28s 139ms/step - loss: 0.7436 - accuracy: 0.7469 - val_loss: 1.0553 - val_accuracy: 0.6482\b\b\b\b\b\b\b\b\b\b\b\b\b\b\b\b\b\b\b\b\b\b\b\b\b\b\b\b\b\b\b\b\b\b\b\b\b\nEpoch 13/15\n200/200 [==============================] - 28s 140ms/step - loss: 0.7216 - accuracy: 0.7611 - val_loss: 1.0249 - val_accuracy: 0.6683\b\b\b\b\b\b\b\b\b\b\b\b\b\b\b\b\b\b\b\b\b\b\b\b\b\b\b\b\b\b\b\b\b\b\b\b\b\nEpoch 14/15\n200/200 [==============================] - 28s 139ms/step - loss: 0.6957 - accuracy: 0.7599 - val_loss: 1.0289 - val_accuracy: 0.6709\b\b\b\b\b\b\b\b\b\b\b\b\b\b\b\b\b\b\b\b\b\b\b\b\b\b\b\b\b\b\b\b\b\b\b\b\b\nEpoch 15/15\n200/200 [==============================] - 28s 139ms/step - loss: 0.6780 - accuracy: 0.7697 - val_loss: 0.9757 - val_accuracy: 0.6847\b\b\b\b\b\b\b\b\b\b\b\b\b\b\b\b\b\b\b\b\b\b\b\b\b\b\b\b\b\b\b\b\b\b\b\b\b\n"
        },
        {
          "output_type": "execute_result",
          "execution_count": 15,
          "data": {
            "text/plain": "<keras.callbacks.History at 0x7fbe7b858160>"
          },
          "metadata": {}
        }
      ],
      "execution_count": 15,
      "metadata": {
        "gather": {
          "logged": 1668523083998
        }
      }
    },
    {
      "cell_type": "code",
      "source": [
        "hypermodel.save('./models/best-hypeparams-model/')"
      ],
      "outputs": [
        {
          "output_type": "stream",
          "name": "stderr",
          "text": "WARNING:absl:Found untraced functions such as _jit_compiled_convolution_op, _jit_compiled_convolution_op, _jit_compiled_convolution_op while saving (showing 3 of 3). These functions will not be directly callable after loading.\n"
        }
      ],
      "execution_count": 16,
      "metadata": {
        "gather": {
          "logged": 1668523155877
        }
      }
    },
    {
      "cell_type": "code",
      "source": [
        "hypermodel.save_weights('model-weights.h5')\r\n",
        "with open('model-architecture.json', 'w') as json_file:\r\n",
        "    json_file.write(hypermodel.to_json())"
      ],
      "outputs": [],
      "execution_count": 19,
      "metadata": {
        "jupyter": {
          "source_hidden": false,
          "outputs_hidden": false
        },
        "nteract": {
          "transient": {
            "deleting": false
          }
        },
        "gather": {
          "logged": 1668533107414
        }
      }
    },
    {
      "cell_type": "code",
      "source": [],
      "outputs": [],
      "execution_count": null,
      "metadata": {
        "jupyter": {
          "source_hidden": false,
          "outputs_hidden": false
        },
        "nteract": {
          "transient": {
            "deleting": false
          }
        }
      }
    }
  ],
  "metadata": {
    "kernelspec": {
      "name": "python38-azureml-pt-tf",
      "language": "python",
      "display_name": "Python 3.8 - Pytorch and Tensorflow"
    },
    "language_info": {
      "name": "python",
      "version": "3.8.5",
      "mimetype": "text/x-python",
      "codemirror_mode": {
        "name": "ipython",
        "version": 3
      },
      "pygments_lexer": "ipython3",
      "nbconvert_exporter": "python",
      "file_extension": ".py"
    },
    "orig_nbformat": 4,
    "vscode": {
      "interpreter": {
        "hash": "3d08b197395ff9c13d611a82f8666597c7b4f03b34ef71765c8d241627dec079"
      }
    },
    "kernel_info": {
      "name": "python38-azureml-pt-tf"
    },
    "microsoft": {
      "host": {
        "AzureML": {
          "notebookHasBeenCompleted": true
        }
      }
    },
    "nteract": {
      "version": "nteract-front-end@1.0.0"
    }
  },
  "nbformat": 4,
  "nbformat_minor": 2
}